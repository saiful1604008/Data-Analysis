{
  "nbformat": 4,
  "nbformat_minor": 0,
  "metadata": {
    "colab": {
      "name": "Vaccination of 16 batch (CUET).ipynb",
      "provenance": [],
      "collapsed_sections": []
    },
    "kernelspec": {
      "name": "python3",
      "display_name": "Python 3"
    },
    "language_info": {
      "name": "python"
    }
  },
  "cells": [
    {
      "cell_type": "code",
      "metadata": {
        "id": "nyJ81vWLGM00"
      },
      "source": [
        "import numpy as np \n",
        "import pandas as pd \n",
        "import matplotlib.pyplot as plt\n",
        "import seaborn as sns"
      ],
      "execution_count": 1,
      "outputs": []
    },
    {
      "cell_type": "code",
      "metadata": {
        "colab": {
          "base_uri": "https://localhost:8080/"
        },
        "id": "6gcAX2u6GloL",
        "outputId": "58619690-64de-4046-b55b-97556208a38b"
      },
      "source": [
        "df = pd.read_csv(\"/content/Vaccination Information '16 Batch (Responses) - Form Responses 1.csv\")\n",
        "print(df)"
      ],
      "execution_count": 2,
      "outputs": [
        {
          "output_type": "stream",
          "name": "stdout",
          "text": [
            "              Timestamp  ...                        Vaccination Status\n",
            "0    8/20/2021 21:20:06  ...  Registration done but no vaccination yet\n",
            "1    8/20/2021 16:44:10  ...         Couldn’t Register yet (or no NID)\n",
            "2    8/20/2021 22:07:17  ...                             2nd dose done\n",
            "3    8/30/2021 13:29:45  ...                             2nd dose done\n",
            "4    8/20/2021 15:36:42  ...  Registration done but no vaccination yet\n",
            "..                  ...  ...                                       ...\n",
            "553  8/31/2021 14:01:23  ...  Registration done but no vaccination yet\n",
            "554    9/1/2021 7:42:37  ...                             2nd dose done\n",
            "555    9/2/2021 9:52:24  ...  Registration done but no vaccination yet\n",
            "556   9/2/2021 15:55:10  ...                             2nd dose done\n",
            "557   9/3/2021 13:46:04  ...                             2nd dose done\n",
            "\n",
            "[558 rows x 6 columns]\n"
          ]
        }
      ]
    },
    {
      "cell_type": "code",
      "metadata": {
        "colab": {
          "base_uri": "https://localhost:8080/"
        },
        "id": "fEKg2frpG0ZD",
        "outputId": "2671a43a-8f60-475d-8679-d6c980cb15e5"
      },
      "source": [
        "df.columns"
      ],
      "execution_count": 3,
      "outputs": [
        {
          "output_type": "execute_result",
          "data": {
            "text/plain": [
              "Index(['Timestamp', 'Email Address', 'Name', 'ID', 'Department',\n",
              "       'Vaccination Status'],\n",
              "      dtype='object')"
            ]
          },
          "metadata": {},
          "execution_count": 3
        }
      ]
    },
    {
      "cell_type": "code",
      "metadata": {
        "colab": {
          "base_uri": "https://localhost:8080/"
        },
        "id": "HQtDPc6nG4kA",
        "outputId": "4f0b4bc6-1c12-4821-f624-2cd0c37aab9d"
      },
      "source": [
        "df.info()"
      ],
      "execution_count": 4,
      "outputs": [
        {
          "output_type": "stream",
          "name": "stdout",
          "text": [
            "<class 'pandas.core.frame.DataFrame'>\n",
            "RangeIndex: 558 entries, 0 to 557\n",
            "Data columns (total 6 columns):\n",
            " #   Column              Non-Null Count  Dtype \n",
            "---  ------              --------------  ----- \n",
            " 0   Timestamp           558 non-null    object\n",
            " 1   Email Address       558 non-null    object\n",
            " 2   Name                558 non-null    object\n",
            " 3   ID                  558 non-null    int64 \n",
            " 4   Department          558 non-null    object\n",
            " 5   Vaccination Status  558 non-null    object\n",
            "dtypes: int64(1), object(5)\n",
            "memory usage: 26.3+ KB\n"
          ]
        }
      ]
    },
    {
      "cell_type": "code",
      "metadata": {
        "colab": {
          "base_uri": "https://localhost:8080/",
          "height": 204
        },
        "id": "HYKklhzdHDLu",
        "outputId": "407c27c7-856e-4da0-f573-2929c8acc46a"
      },
      "source": [
        "df.drop(['Timestamp'],axis = 1, inplace= True)\n",
        "df.head()"
      ],
      "execution_count": 6,
      "outputs": [
        {
          "output_type": "execute_result",
          "data": {
            "text/html": [
              "<div>\n",
              "<style scoped>\n",
              "    .dataframe tbody tr th:only-of-type {\n",
              "        vertical-align: middle;\n",
              "    }\n",
              "\n",
              "    .dataframe tbody tr th {\n",
              "        vertical-align: top;\n",
              "    }\n",
              "\n",
              "    .dataframe thead th {\n",
              "        text-align: right;\n",
              "    }\n",
              "</style>\n",
              "<table border=\"1\" class=\"dataframe\">\n",
              "  <thead>\n",
              "    <tr style=\"text-align: right;\">\n",
              "      <th></th>\n",
              "      <th>Email Address</th>\n",
              "      <th>Name</th>\n",
              "      <th>ID</th>\n",
              "      <th>Department</th>\n",
              "      <th>Vaccination Status</th>\n",
              "    </tr>\n",
              "  </thead>\n",
              "  <tbody>\n",
              "    <tr>\n",
              "      <th>0</th>\n",
              "      <td>u1602022@student.cuet.ac.bd</td>\n",
              "      <td>Tanvir Ibn Touhid</td>\n",
              "      <td>160222</td>\n",
              "      <td>EEE</td>\n",
              "      <td>Registration done but no vaccination yet</td>\n",
              "    </tr>\n",
              "    <tr>\n",
              "      <th>1</th>\n",
              "      <td>saminawsaf@gmail.com</td>\n",
              "      <td>Samin Awsaf</td>\n",
              "      <td>1407010</td>\n",
              "      <td>PME</td>\n",
              "      <td>Couldn’t Register yet (or no NID)</td>\n",
              "    </tr>\n",
              "    <tr>\n",
              "      <th>2</th>\n",
              "      <td>u1502111@student.cuet.ac.bd</td>\n",
              "      <td>Sinthia Azmir Mim</td>\n",
              "      <td>1502111</td>\n",
              "      <td>EEE</td>\n",
              "      <td>2nd dose done</td>\n",
              "    </tr>\n",
              "    <tr>\n",
              "      <th>3</th>\n",
              "      <td>u1601001@student.cuet.ac.bd</td>\n",
              "      <td>Md Taki Tajwar</td>\n",
              "      <td>1601001</td>\n",
              "      <td>CE</td>\n",
              "      <td>2nd dose done</td>\n",
              "    </tr>\n",
              "    <tr>\n",
              "      <th>4</th>\n",
              "      <td>u1601002@student.cuet.ac.bd</td>\n",
              "      <td>MD Mahbub Alam</td>\n",
              "      <td>1601002</td>\n",
              "      <td>CE</td>\n",
              "      <td>Registration done but no vaccination yet</td>\n",
              "    </tr>\n",
              "  </tbody>\n",
              "</table>\n",
              "</div>"
            ],
            "text/plain": [
              "                 Email Address  ...                        Vaccination Status\n",
              "0  u1602022@student.cuet.ac.bd  ...  Registration done but no vaccination yet\n",
              "1         saminawsaf@gmail.com  ...         Couldn’t Register yet (or no NID)\n",
              "2  u1502111@student.cuet.ac.bd  ...                             2nd dose done\n",
              "3  u1601001@student.cuet.ac.bd  ...                             2nd dose done\n",
              "4  u1601002@student.cuet.ac.bd  ...  Registration done but no vaccination yet\n",
              "\n",
              "[5 rows x 5 columns]"
            ]
          },
          "metadata": {},
          "execution_count": 6
        }
      ]
    },
    {
      "cell_type": "code",
      "metadata": {
        "colab": {
          "base_uri": "https://localhost:8080/"
        },
        "id": "0K5EdDvnHKjg",
        "outputId": "e6e1b700-f1f2-44f8-9fa9-56e4645b5e3e"
      },
      "source": [
        "df.Department.unique()"
      ],
      "execution_count": 10,
      "outputs": [
        {
          "output_type": "execute_result",
          "data": {
            "text/plain": [
              "array(['EEE', 'PME', 'CE', 'ME', 'CSE', 'URP', 'ARCHI', 'ETE', 'MIE',\n",
              "       'WRE'], dtype=object)"
            ]
          },
          "metadata": {},
          "execution_count": 10
        }
      ]
    },
    {
      "cell_type": "code",
      "metadata": {
        "colab": {
          "base_uri": "https://localhost:8080/"
        },
        "id": "2L23T-5EHx7d",
        "outputId": "e0814b49-9810-460b-c20b-18b415ab0155"
      },
      "source": [
        "print(\"number of dept fill up the form:\", len(\"Department\"))"
      ],
      "execution_count": 11,
      "outputs": [
        {
          "output_type": "stream",
          "name": "stdout",
          "text": [
            "number of dept fill up the form: 10\n"
          ]
        }
      ]
    },
    {
      "cell_type": "code",
      "metadata": {
        "id": "71BGtkWmH0GL"
      },
      "source": [
        "df.rename(columns= {'Email Address': 'Email', \n",
        "                     'Vaccination Status': 'Vac_Status'},\n",
        "           inplace =True)"
      ],
      "execution_count": 12,
      "outputs": []
    },
    {
      "cell_type": "code",
      "metadata": {
        "colab": {
          "base_uri": "https://localhost:8080/",
          "height": 204
        },
        "id": "bshOV1MmH-iq",
        "outputId": "25d701c4-56a0-48e4-db73-71a913728fe9"
      },
      "source": [
        "df.tail()"
      ],
      "execution_count": 13,
      "outputs": [
        {
          "output_type": "execute_result",
          "data": {
            "text/html": [
              "<div>\n",
              "<style scoped>\n",
              "    .dataframe tbody tr th:only-of-type {\n",
              "        vertical-align: middle;\n",
              "    }\n",
              "\n",
              "    .dataframe tbody tr th {\n",
              "        vertical-align: top;\n",
              "    }\n",
              "\n",
              "    .dataframe thead th {\n",
              "        text-align: right;\n",
              "    }\n",
              "</style>\n",
              "<table border=\"1\" class=\"dataframe\">\n",
              "  <thead>\n",
              "    <tr style=\"text-align: right;\">\n",
              "      <th></th>\n",
              "      <th>Email</th>\n",
              "      <th>Name</th>\n",
              "      <th>ID</th>\n",
              "      <th>Department</th>\n",
              "      <th>Vac_Status</th>\n",
              "    </tr>\n",
              "  </thead>\n",
              "  <tbody>\n",
              "    <tr>\n",
              "      <th>553</th>\n",
              "      <td>u1604121@student.cuet.ac.bd</td>\n",
              "      <td>Md. Jahedul Alam Rifat</td>\n",
              "      <td>1604121</td>\n",
              "      <td>CSE</td>\n",
              "      <td>Registration done but no vaccination yet</td>\n",
              "    </tr>\n",
              "    <tr>\n",
              "      <th>554</th>\n",
              "      <td>almiraz2223@gmail.com</td>\n",
              "      <td>Abdullah al Miraz</td>\n",
              "      <td>1603094</td>\n",
              "      <td>ME</td>\n",
              "      <td>2nd dose done</td>\n",
              "    </tr>\n",
              "    <tr>\n",
              "      <th>555</th>\n",
              "      <td>u1603071@student.cuet.ac.bd</td>\n",
              "      <td>Md.Hossain Ali</td>\n",
              "      <td>1603071</td>\n",
              "      <td>ME</td>\n",
              "      <td>Registration done but no vaccination yet</td>\n",
              "    </tr>\n",
              "    <tr>\n",
              "      <th>556</th>\n",
              "      <td>u1603008@student.cuet.ac.bd</td>\n",
              "      <td>Md. Abir Hasan Jilan</td>\n",
              "      <td>1603008</td>\n",
              "      <td>ME</td>\n",
              "      <td>2nd dose done</td>\n",
              "    </tr>\n",
              "    <tr>\n",
              "      <th>557</th>\n",
              "      <td>rukon219@gmail.com</td>\n",
              "      <td>Muhammad Eshaque Ali Rukon</td>\n",
              "      <td>1604023</td>\n",
              "      <td>CSE</td>\n",
              "      <td>2nd dose done</td>\n",
              "    </tr>\n",
              "  </tbody>\n",
              "</table>\n",
              "</div>"
            ],
            "text/plain": [
              "                           Email  ...                                Vac_Status\n",
              "553  u1604121@student.cuet.ac.bd  ...  Registration done but no vaccination yet\n",
              "554        almiraz2223@gmail.com  ...                             2nd dose done\n",
              "555  u1603071@student.cuet.ac.bd  ...  Registration done but no vaccination yet\n",
              "556  u1603008@student.cuet.ac.bd  ...                             2nd dose done\n",
              "557           rukon219@gmail.com  ...                             2nd dose done\n",
              "\n",
              "[5 rows x 5 columns]"
            ]
          },
          "metadata": {},
          "execution_count": 13
        }
      ]
    },
    {
      "cell_type": "code",
      "metadata": {
        "colab": {
          "base_uri": "https://localhost:8080/"
        },
        "id": "twN6DP1xIDsq",
        "outputId": "38b793ee-2ced-483e-872c-baaf7616fc00"
      },
      "source": [
        "vac_counts = df.Vac_Status.value_counts()\n",
        "vac_counts"
      ],
      "execution_count": 14,
      "outputs": [
        {
          "output_type": "execute_result",
          "data": {
            "text/plain": [
              "2nd dose done                                  283\n",
              "Registration done but no vaccination yet       127\n",
              "1st dose done + 2nd dose date given             57\n",
              "1st dose done + 2nd dose date not given yet     56\n",
              "Couldn’t Register yet (or no NID)               35\n",
              "Name: Vac_Status, dtype: int64"
            ]
          },
          "metadata": {},
          "execution_count": 14
        }
      ]
    },
    {
      "cell_type": "markdown",
      "metadata": {
        "id": "m9a85xSvKBK5"
      },
      "source": [
        "# **Data Visualization**"
      ]
    },
    {
      "cell_type": "markdown",
      "metadata": {
        "id": "h4MZEYENKpK8"
      },
      "source": [
        "\n",
        "## 1.   Bar Chart\n",
        "\n"
      ]
    },
    {
      "cell_type": "code",
      "metadata": {
        "colab": {
          "base_uri": "https://localhost:8080/",
          "height": 367
        },
        "id": "3BEd7qOrKwYQ",
        "outputId": "546ae36c-1152-45fd-83bc-6e92ff16f620"
      },
      "source": [
        "plt.figure(figsize=(8,4))\n",
        "plt.title(\"Status of COVID - 19 Vac. of '16 batch student of CUET\")\n",
        "sns.barplot(vac_counts, vac_counts.index)"
      ],
      "execution_count": 61,
      "outputs": [
        {
          "output_type": "stream",
          "name": "stderr",
          "text": [
            "/usr/local/lib/python3.7/dist-packages/seaborn/_decorators.py:43: FutureWarning: Pass the following variables as keyword args: x, y. From version 0.12, the only valid positional argument will be `data`, and passing other arguments without an explicit keyword will result in an error or misinterpretation.\n",
            "  FutureWarning\n"
          ]
        },
        {
          "output_type": "execute_result",
          "data": {
            "text/plain": [
              "<matplotlib.axes._subplots.AxesSubplot at 0x7f6470d84490>"
            ]
          },
          "metadata": {},
          "execution_count": 61
        },
        {
          "output_type": "display_data",
          "data": {
            "image/png": "[encoded data removed]",
            "text/plain": [
              "<Figure size 576x288 with 1 Axes>"
            ]
          },
          "metadata": {
            "needs_background": "light"
          }
        }
      ]
    },
    {
      "cell_type": "markdown",
      "metadata": {
        "id": "hNvvwAnHL_-v"
      },
      "source": [
        "\n",
        "# 2.   Pie Chart\n",
        "\n"
      ]
    },
    {
      "cell_type": "code",
      "metadata": {
        "colab": {
          "base_uri": "https://localhost:8080/",
          "height": 737
        },
        "id": "d0aAQbm3MF4J",
        "outputId": "19fb3daf-f2f6-4557-d408-06440be68089"
      },
      "source": [
        "plt.figure(figsize=(16,8))\n",
        "plt.title('Vaccination status of students of CUET - 16 batch')\n",
        "plt.pie(vac_counts,  shadow=True, explode=(0.1, 0.1, 0.1, 0.1,0.1), autopct='%1.1f%%',  labels = vac_counts.index )"
      ],
      "execution_count": 20,
      "outputs": [
        {
          "output_type": "execute_result",
          "data": {
            "text/plain": [
              "([<matplotlib.patches.Wedge at 0x7f647ec52510>,\n",
              "  <matplotlib.patches.Wedge at 0x7f647ec52f90>,\n",
              "  <matplotlib.patches.Wedge at 0x7f647ebdeb50>,\n",
              "  <matplotlib.patches.Wedge at 0x7f647ebe77d0>,\n",
              "  <matplotlib.patches.Wedge at 0x7f647ebf3650>],\n",
              " [Text(-0.027022217788196343, 1.1996957113142512, '2nd dose done'),\n",
              "  Text(-0.8697512859955283, -0.8267603646215298, 'Registration done but no vaccination yet'),\n",
              "  Text(0.26796606296013237, -1.1696983325206745, '1st dose done + 2nd dose date given'),\n",
              "  Text(0.9105098003480927, -0.7816469173930622, '1st dose done + 2nd dose date not given yet'),\n",
              "  Text(1.1767773088218088, -0.2349365136416675, 'Couldn’t Register yet (or no NID)')],\n",
              " [Text(-0.015762960376447865, 0.6998224982666466, '50.7%'),\n",
              "  Text(-0.5073549168307248, -0.482276879362559, '22.8%'),\n",
              "  Text(0.1563135367267439, -0.6823240273037268, '10.2%'),\n",
              "  Text(0.5311307168697206, -0.4559607018126196, '10.0%'),\n",
              "  Text(0.686453430146055, -0.13704629962430603, '6.3%')])"
            ]
          },
          "metadata": {},
          "execution_count": 20
        },
        {
          "output_type": "display_data",
          "data": {
            "image/png": "[encoded data removed]",
            "text/plain": [
              "<Figure size 1152x576 with 1 Axes>"
            ]
          },
          "metadata": {}
        }
      ]
    },
    {
      "cell_type": "markdown",
      "metadata": {
        "id": "XLICPPy1QZiq"
      },
      "source": [
        "\n",
        "\n",
        "# 3.  Scatter Plot\n",
        "\n",
        "\n"
      ]
    },
    {
      "cell_type": "code",
      "metadata": {
        "colab": {
          "base_uri": "https://localhost:8080/",
          "height": 351
        },
        "id": "Ud6ZdiGHNkXi",
        "outputId": "2fa824ae-d8d9-4a52-dae9-804ed4c301eb"
      },
      "source": [
        "sns.scatterplot(vac_counts, vac_counts.index, s=100 )"
      ],
      "execution_count": 28,
      "outputs": [
        {
          "output_type": "stream",
          "name": "stderr",
          "text": [
            "/usr/local/lib/python3.7/dist-packages/seaborn/_decorators.py:43: FutureWarning: Pass the following variables as keyword args: x, y. From version 0.12, the only valid positional argument will be `data`, and passing other arguments without an explicit keyword will result in an error or misinterpretation.\n",
            "  FutureWarning\n"
          ]
        },
        {
          "output_type": "execute_result",
          "data": {
            "text/plain": [
              "<matplotlib.axes._subplots.AxesSubplot at 0x7f6475d29810>"
            ]
          },
          "metadata": {},
          "execution_count": 28
        },
        {
          "output_type": "display_data",
          "data": {
            "image/png": "[encoded data removed]",
            "text/plain": [
              "<Figure size 432x288 with 1 Axes>"
            ]
          },
          "metadata": {
            "needs_background": "light"
          }
        }
      ]
    },
    {
      "cell_type": "markdown",
      "metadata": {
        "id": "nf4vbu3Zb0iW"
      },
      "source": [
        "# **Using Pandas library pandasql for the analysis**"
      ]
    },
    {
      "cell_type": "code",
      "metadata": {
        "colab": {
          "base_uri": "https://localhost:8080/"
        },
        "id": "88XLxnrfSRNi",
        "outputId": "bf051569-bb7e-4b32-f8c6-f91f9b36b7c1"
      },
      "source": [
        "!pip install -U pandasql"
      ],
      "execution_count": 29,
      "outputs": [
        {
          "output_type": "stream",
          "name": "stdout",
          "text": [
            "Collecting pandasql\n",
            "  Downloading pandasql-0.7.3.tar.gz (26 kB)\n",
            "Requirement already satisfied: numpy in /usr/local/lib/python3.7/dist-packages (from pandasql) (1.19.5)\n",
            "Requirement already satisfied: pandas in /usr/local/lib/python3.7/dist-packages (from pandasql) (1.1.5)\n",
            "Requirement already satisfied: sqlalchemy in /usr/local/lib/python3.7/dist-packages (from pandasql) (1.4.22)\n",
            "Requirement already satisfied: pytz>=2017.2 in /usr/local/lib/python3.7/dist-packages (from pandas->pandasql) (2018.9)\n",
            "Requirement already satisfied: python-dateutil>=2.7.3 in /usr/local/lib/python3.7/dist-packages (from pandas->pandasql) (2.8.2)\n",
            "Requirement already satisfied: six>=1.5 in /usr/local/lib/python3.7/dist-packages (from python-dateutil>=2.7.3->pandas->pandasql) (1.15.0)\n",
            "Requirement already satisfied: importlib-metadata in /usr/local/lib/python3.7/dist-packages (from sqlalchemy->pandasql) (4.6.4)\n",
            "Requirement already satisfied: greenlet!=0.4.17 in /usr/local/lib/python3.7/dist-packages (from sqlalchemy->pandasql) (1.1.1)\n",
            "Requirement already satisfied: zipp>=0.5 in /usr/local/lib/python3.7/dist-packages (from importlib-metadata->sqlalchemy->pandasql) (3.5.0)\n",
            "Requirement already satisfied: typing-extensions>=3.6.4 in /usr/local/lib/python3.7/dist-packages (from importlib-metadata->sqlalchemy->pandasql) (3.7.4.3)\n",
            "Building wheels for collected packages: pandasql\n",
            "  Building wheel for pandasql (setup.py) ... \u001b[?25l\u001b[?25hdone\n",
            "  Created wheel for pandasql: filename=pandasql-0.7.3-py3-none-any.whl size=26781 sha256=2998d07a7e7485d8994084e9c5b51f19f9e949f4b24af55b18530acd7a4be6ce\n",
            "  Stored in directory: /root/.cache/pip/wheels/5c/4b/ec/41f4e116c8053c3654e2c2a47c62b4fca34cc67ef7b55deb7f\n",
            "Successfully built pandasql\n",
            "Installing collected packages: pandasql\n",
            "Successfully installed pandasql-0.7.3\n"
          ]
        }
      ]
    },
    {
      "cell_type": "code",
      "metadata": {
        "id": "JIJ-63vBSU2_"
      },
      "source": [
        "from pandasql import sqldf \n",
        "mysql = lambda q: sqldf(q, globals())"
      ],
      "execution_count": 33,
      "outputs": []
    },
    {
      "cell_type": "code",
      "metadata": {
        "id": "gLuyqopQSe6o"
      },
      "source": [
        "from pandasql import sqldf\n",
        "import pandasql as psql"
      ],
      "execution_count": 35,
      "outputs": []
    },
    {
      "cell_type": "code",
      "metadata": {
        "id": "SdYf8cLxWanA"
      },
      "source": [
        "new_df = pd.read_csv(\"/content/Vaccination Information '16 Batch (Responses) - Form Responses 1.csv\", header = 0)"
      ],
      "execution_count": 49,
      "outputs": []
    },
    {
      "cell_type": "code",
      "metadata": {
        "id": "_SWGDdHiWsYh"
      },
      "source": [
        "new_df.drop(['Timestamp'],axis = 1, inplace= True)\n",
        "\n",
        "new_df.rename(columns= {'Email Address': 'Email', \n",
        "                     'Vaccination Status': 'Vac_Status'},\n",
        "           inplace =True)"
      ],
      "execution_count": 50,
      "outputs": []
    },
    {
      "cell_type": "code",
      "metadata": {
        "colab": {
          "base_uri": "https://localhost:8080/",
          "height": 111
        },
        "id": "-Flwp_SpYPZC",
        "outputId": "08cdca03-2f47-4f34-f663-15901d79647d"
      },
      "source": [
        "new_df.head(2)"
      ],
      "execution_count": 51,
      "outputs": [
        {
          "output_type": "execute_result",
          "data": {
            "text/html": [
              "<div>\n",
              "<style scoped>\n",
              "    .dataframe tbody tr th:only-of-type {\n",
              "        vertical-align: middle;\n",
              "    }\n",
              "\n",
              "    .dataframe tbody tr th {\n",
              "        vertical-align: top;\n",
              "    }\n",
              "\n",
              "    .dataframe thead th {\n",
              "        text-align: right;\n",
              "    }\n",
              "</style>\n",
              "<table border=\"1\" class=\"dataframe\">\n",
              "  <thead>\n",
              "    <tr style=\"text-align: right;\">\n",
              "      <th></th>\n",
              "      <th>Email</th>\n",
              "      <th>Name</th>\n",
              "      <th>ID</th>\n",
              "      <th>Department</th>\n",
              "      <th>Vac_Status</th>\n",
              "    </tr>\n",
              "  </thead>\n",
              "  <tbody>\n",
              "    <tr>\n",
              "      <th>0</th>\n",
              "      <td>u1602022@student.cuet.ac.bd</td>\n",
              "      <td>Tanvir Ibn Touhid</td>\n",
              "      <td>160222</td>\n",
              "      <td>EEE</td>\n",
              "      <td>Registration done but no vaccination yet</td>\n",
              "    </tr>\n",
              "    <tr>\n",
              "      <th>1</th>\n",
              "      <td>saminawsaf@gmail.com</td>\n",
              "      <td>Samin Awsaf</td>\n",
              "      <td>1407010</td>\n",
              "      <td>PME</td>\n",
              "      <td>Couldn’t Register yet (or no NID)</td>\n",
              "    </tr>\n",
              "  </tbody>\n",
              "</table>\n",
              "</div>"
            ],
            "text/plain": [
              "                         Email  ...                                Vac_Status\n",
              "0  u1602022@student.cuet.ac.bd  ...  Registration done but no vaccination yet\n",
              "1         saminawsaf@gmail.com  ...         Couldn’t Register yet (or no NID)\n",
              "\n",
              "[2 rows x 5 columns]"
            ]
          },
          "metadata": {},
          "execution_count": 51
        }
      ]
    },
    {
      "cell_type": "code",
      "metadata": {
        "id": "cO9XpsmBYTWI"
      },
      "source": [
        "df1 = psql.sqldf(\"select * from new_df where Department = 'EEE'\")"
      ],
      "execution_count": 66,
      "outputs": []
    },
    {
      "cell_type": "code",
      "metadata": {
        "colab": {
          "base_uri": "https://localhost:8080/",
          "height": 419
        },
        "id": "0W5KOP4oYvzn",
        "outputId": "d45994d6-a6b2-4c37-9d2d-0f159b583b28"
      },
      "source": [
        "df1"
      ],
      "execution_count": 67,
      "outputs": [
        {
          "output_type": "execute_result",
          "data": {
            "text/html": [
              "<div>\n",
              "<style scoped>\n",
              "    .dataframe tbody tr th:only-of-type {\n",
              "        vertical-align: middle;\n",
              "    }\n",
              "\n",
              "    .dataframe tbody tr th {\n",
              "        vertical-align: top;\n",
              "    }\n",
              "\n",
              "    .dataframe thead th {\n",
              "        text-align: right;\n",
              "    }\n",
              "</style>\n",
              "<table border=\"1\" class=\"dataframe\">\n",
              "  <thead>\n",
              "    <tr style=\"text-align: right;\">\n",
              "      <th></th>\n",
              "      <th>Email</th>\n",
              "      <th>Name</th>\n",
              "      <th>ID</th>\n",
              "      <th>Department</th>\n",
              "      <th>Vac_Status</th>\n",
              "    </tr>\n",
              "  </thead>\n",
              "  <tbody>\n",
              "    <tr>\n",
              "      <th>0</th>\n",
              "      <td>u1602022@student.cuet.ac.bd</td>\n",
              "      <td>Tanvir Ibn Touhid</td>\n",
              "      <td>160222</td>\n",
              "      <td>EEE</td>\n",
              "      <td>Registration done but no vaccination yet</td>\n",
              "    </tr>\n",
              "    <tr>\n",
              "      <th>1</th>\n",
              "      <td>u1502111@student.cuet.ac.bd</td>\n",
              "      <td>Sinthia Azmir Mim</td>\n",
              "      <td>1502111</td>\n",
              "      <td>EEE</td>\n",
              "      <td>2nd dose done</td>\n",
              "    </tr>\n",
              "    <tr>\n",
              "      <th>2</th>\n",
              "      <td>u1602001@student.cuet.ac.bd</td>\n",
              "      <td>Md.Ataur Rahman</td>\n",
              "      <td>1602001</td>\n",
              "      <td>EEE</td>\n",
              "      <td>Couldn’t Register yet (or no NID)</td>\n",
              "    </tr>\n",
              "    <tr>\n",
              "      <th>3</th>\n",
              "      <td>u1602003@student.cuet.ac.bd</td>\n",
              "      <td>Dilruba Alam</td>\n",
              "      <td>1602003</td>\n",
              "      <td>EEE</td>\n",
              "      <td>2nd dose done</td>\n",
              "    </tr>\n",
              "    <tr>\n",
              "      <th>4</th>\n",
              "      <td>u1602004@student.cuet.ac.bd</td>\n",
              "      <td>Habibur Rahman</td>\n",
              "      <td>1602004</td>\n",
              "      <td>EEE</td>\n",
              "      <td>2nd dose done</td>\n",
              "    </tr>\n",
              "    <tr>\n",
              "      <th>...</th>\n",
              "      <td>...</td>\n",
              "      <td>...</td>\n",
              "      <td>...</td>\n",
              "      <td>...</td>\n",
              "      <td>...</td>\n",
              "    </tr>\n",
              "    <tr>\n",
              "      <th>109</th>\n",
              "      <td>u1602128@student.cuet.ac.bd</td>\n",
              "      <td>Merajul Mostakim Ahmed</td>\n",
              "      <td>1602128</td>\n",
              "      <td>EEE</td>\n",
              "      <td>2nd dose done</td>\n",
              "    </tr>\n",
              "    <tr>\n",
              "      <th>110</th>\n",
              "      <td>u1602129@student.cuet.ac.bd</td>\n",
              "      <td>Zubair Hossain</td>\n",
              "      <td>1602129</td>\n",
              "      <td>EEE</td>\n",
              "      <td>Couldn’t Register yet (or no NID)</td>\n",
              "    </tr>\n",
              "    <tr>\n",
              "      <th>111</th>\n",
              "      <td>u1602130@student.cuet.ac.bd</td>\n",
              "      <td>Shyeeda Sumaiya</td>\n",
              "      <td>1602130</td>\n",
              "      <td>EEE</td>\n",
              "      <td>Registration done but no vaccination yet</td>\n",
              "    </tr>\n",
              "    <tr>\n",
              "      <th>112</th>\n",
              "      <td>u1602075@student.cuet.ac.bd</td>\n",
              "      <td>Tanvir Farhan</td>\n",
              "      <td>1602075</td>\n",
              "      <td>EEE</td>\n",
              "      <td>1st dose done + 2nd dose date not given yet</td>\n",
              "    </tr>\n",
              "    <tr>\n",
              "      <th>113</th>\n",
              "      <td>u1602126@student.cuet.ac.bd</td>\n",
              "      <td>Mst. Umme Habiba</td>\n",
              "      <td>1602126</td>\n",
              "      <td>EEE</td>\n",
              "      <td>Couldn’t Register yet (or no NID)</td>\n",
              "    </tr>\n",
              "  </tbody>\n",
              "</table>\n",
              "<p>114 rows × 5 columns</p>\n",
              "</div>"
            ],
            "text/plain": [
              "                           Email  ...                                   Vac_Status\n",
              "0    u1602022@student.cuet.ac.bd  ...     Registration done but no vaccination yet\n",
              "1    u1502111@student.cuet.ac.bd  ...                                2nd dose done\n",
              "2    u1602001@student.cuet.ac.bd  ...            Couldn’t Register yet (or no NID)\n",
              "3    u1602003@student.cuet.ac.bd  ...                                2nd dose done\n",
              "4    u1602004@student.cuet.ac.bd  ...                                2nd dose done\n",
              "..                           ...  ...                                          ...\n",
              "109  u1602128@student.cuet.ac.bd  ...                                2nd dose done\n",
              "110  u1602129@student.cuet.ac.bd  ...            Couldn’t Register yet (or no NID)\n",
              "111  u1602130@student.cuet.ac.bd  ...     Registration done but no vaccination yet\n",
              "112  u1602075@student.cuet.ac.bd  ...  1st dose done + 2nd dose date not given yet\n",
              "113  u1602126@student.cuet.ac.bd  ...            Couldn’t Register yet (or no NID)\n",
              "\n",
              "[114 rows x 5 columns]"
            ]
          },
          "metadata": {},
          "execution_count": 67
        }
      ]
    },
    {
      "cell_type": "code",
      "metadata": {
        "colab": {
          "base_uri": "https://localhost:8080/"
        },
        "id": "sMExCBC0Z9tg",
        "outputId": "044dba67-6807-465f-f238-ebaab64fabe5"
      },
      "source": [
        "vac_counts_EEE = df1.Vac_Status.value_counts()\n",
        "vac_counts_EEE"
      ],
      "execution_count": 54,
      "outputs": [
        {
          "output_type": "execute_result",
          "data": {
            "text/plain": [
              "2nd dose done                                  54\n",
              "Registration done but no vaccination yet       23\n",
              "1st dose done + 2nd dose date given            15\n",
              "1st dose done + 2nd dose date not given yet    15\n",
              "Couldn’t Register yet (or no NID)               7\n",
              "Name: Vac_Status, dtype: int64"
            ]
          },
          "metadata": {},
          "execution_count": 54
        }
      ]
    },
    {
      "cell_type": "code",
      "metadata": {
        "colab": {
          "base_uri": "https://localhost:8080/",
          "height": 520
        },
        "id": "Hz_dGOUGbZ7n",
        "outputId": "3cc5c58c-dda2-4ea7-d7ec-d81cc4aea404"
      },
      "source": [
        "plt.title('Vaccination status of students of CUET - 16 batch EEE dept.')\n",
        "plt.pie(vac_counts_EEE,  shadow=True, explode=(0.1, 0.1, 0.1, 0.1,0.1), autopct='%1.1f%%',  labels = vac_counts_EEE.index )"
      ],
      "execution_count": 55,
      "outputs": [
        {
          "output_type": "execute_result",
          "data": {
            "text/plain": [
              "([<matplotlib.patches.Wedge at 0x7f6470ed0690>,\n",
              "  <matplotlib.patches.Wedge at 0x7f6470ee1150>,\n",
              "  <matplotlib.patches.Wedge at 0x7f6470ee1cd0>,\n",
              "  <matplotlib.patches.Wedge at 0x7f6470eea950>,\n",
              "  <matplotlib.patches.Wedge at 0x7f6470ef27d0>],\n",
              " [Text(0.09909517331529431, 1.1959013950262003, '2nd dose done'),\n",
              "  Text(-1.0707050400614078, -0.541840121426145, 'Registration done but no vaccination yet'),\n",
              "  Text(-0.06610517269218305, -1.1981778274293584, '1st dose done + 2nd dose date given'),\n",
              "  Text(0.8367562870557745, -0.860138893477463, '1st dose done + 2nd dose date not given yet'),\n",
              "  Text(1.1777418292656558, -0.23005256703194332, 'Couldn’t Register yet (or no NID)')],\n",
              " [Text(0.05780551776725502, 0.6976091470986168, '47.4%'),\n",
              "  Text(-0.6245779400358211, -0.3160734041652512, '20.2%'),\n",
              "  Text(-0.03856135073710678, -0.6989370660004589, '13.2%'),\n",
              "  Text(0.48810783411586844, -0.5017476878618533, '13.2%'),\n",
              "  Text(0.6870160670716325, -0.13419733076863358, '6.1%')])"
            ]
          },
          "metadata": {},
          "execution_count": 55
        },
        {
          "output_type": "display_data",
          "data": {
            "image/png": "[encoded data removed]",
            "text/plain": [
              "<Figure size 432x288 with 1 Axes>"
            ]
          },
          "metadata": {}
        }
      ]
    },
    {
      "cell_type": "code",
      "metadata": {
        "colab": {
          "base_uri": "https://localhost:8080/",
          "height": 419
        },
        "id": "ouSLozYecnAU",
        "outputId": "6430a137-6a10-49c2-87ae-8a04cf0c2351"
      },
      "source": [
        "df2 = psql.sqldf(\"select * from new_df where Department = 'CSE'\")\n",
        "df2"
      ],
      "execution_count": 63,
      "outputs": [
        {
          "output_type": "execute_result",
          "data": {
            "text/html": [
              "<div>\n",
              "<style scoped>\n",
              "    .dataframe tbody tr th:only-of-type {\n",
              "        vertical-align: middle;\n",
              "    }\n",
              "\n",
              "    .dataframe tbody tr th {\n",
              "        vertical-align: top;\n",
              "    }\n",
              "\n",
              "    .dataframe thead th {\n",
              "        text-align: right;\n",
              "    }\n",
              "</style>\n",
              "<table border=\"1\" class=\"dataframe\">\n",
              "  <thead>\n",
              "    <tr style=\"text-align: right;\">\n",
              "      <th></th>\n",
              "      <th>Email</th>\n",
              "      <th>Name</th>\n",
              "      <th>ID</th>\n",
              "      <th>Department</th>\n",
              "      <th>Vac_Status</th>\n",
              "    </tr>\n",
              "  </thead>\n",
              "  <tbody>\n",
              "    <tr>\n",
              "      <th>0</th>\n",
              "      <td>u1604001@student.cuet.ac.bd</td>\n",
              "      <td>Suborno Deb Bappon</td>\n",
              "      <td>1604001</td>\n",
              "      <td>CSE</td>\n",
              "      <td>2nd dose done</td>\n",
              "    </tr>\n",
              "    <tr>\n",
              "      <th>1</th>\n",
              "      <td>u1604002@student.cuet.ac.bd</td>\n",
              "      <td>Sadia Islam</td>\n",
              "      <td>1604002</td>\n",
              "      <td>CSE</td>\n",
              "      <td>1st dose done + 2nd dose date given</td>\n",
              "    </tr>\n",
              "    <tr>\n",
              "      <th>2</th>\n",
              "      <td>u1604003@student.cuet.ac.bd</td>\n",
              "      <td>Md. Eftikhar Azim</td>\n",
              "      <td>1604003</td>\n",
              "      <td>CSE</td>\n",
              "      <td>Registration done but no vaccination yet</td>\n",
              "    </tr>\n",
              "    <tr>\n",
              "      <th>3</th>\n",
              "      <td>u1604004@student.cuet.ac.bd</td>\n",
              "      <td>Afroza Akter</td>\n",
              "      <td>1604004</td>\n",
              "      <td>CSE</td>\n",
              "      <td>Couldn’t Register yet (or no NID)</td>\n",
              "    </tr>\n",
              "    <tr>\n",
              "      <th>4</th>\n",
              "      <td>u1604006@student.cuet.ac.bd</td>\n",
              "      <td>Nabila Nawal</td>\n",
              "      <td>1604006</td>\n",
              "      <td>CSE</td>\n",
              "      <td>1st dose done + 2nd dose date given</td>\n",
              "    </tr>\n",
              "    <tr>\n",
              "      <th>...</th>\n",
              "      <td>...</td>\n",
              "      <td>...</td>\n",
              "      <td>...</td>\n",
              "      <td>...</td>\n",
              "      <td>...</td>\n",
              "    </tr>\n",
              "    <tr>\n",
              "      <th>112</th>\n",
              "      <td>u1604131@student.cuet.ac.bd</td>\n",
              "      <td>Chumui Tripura</td>\n",
              "      <td>1604131</td>\n",
              "      <td>CSE</td>\n",
              "      <td>2nd dose done</td>\n",
              "    </tr>\n",
              "    <tr>\n",
              "      <th>113</th>\n",
              "      <td>u1604071@student.cuet.ac.bd</td>\n",
              "      <td>Ashish Pondit</td>\n",
              "      <td>1604071</td>\n",
              "      <td>CSE</td>\n",
              "      <td>2nd dose done</td>\n",
              "    </tr>\n",
              "    <tr>\n",
              "      <th>114</th>\n",
              "      <td>shahriarmahmud292@gmail.com</td>\n",
              "      <td>Shahriar Mahmud Sabuj</td>\n",
              "      <td>1604013</td>\n",
              "      <td>CSE</td>\n",
              "      <td>Registration done but no vaccination yet</td>\n",
              "    </tr>\n",
              "    <tr>\n",
              "      <th>115</th>\n",
              "      <td>u1604121@student.cuet.ac.bd</td>\n",
              "      <td>Md. Jahedul Alam Rifat</td>\n",
              "      <td>1604121</td>\n",
              "      <td>CSE</td>\n",
              "      <td>Registration done but no vaccination yet</td>\n",
              "    </tr>\n",
              "    <tr>\n",
              "      <th>116</th>\n",
              "      <td>rukon219@gmail.com</td>\n",
              "      <td>Muhammad Eshaque Ali Rukon</td>\n",
              "      <td>1604023</td>\n",
              "      <td>CSE</td>\n",
              "      <td>2nd dose done</td>\n",
              "    </tr>\n",
              "  </tbody>\n",
              "</table>\n",
              "<p>117 rows × 5 columns</p>\n",
              "</div>"
            ],
            "text/plain": [
              "                           Email  ...                                Vac_Status\n",
              "0    u1604001@student.cuet.ac.bd  ...                             2nd dose done\n",
              "1    u1604002@student.cuet.ac.bd  ...       1st dose done + 2nd dose date given\n",
              "2    u1604003@student.cuet.ac.bd  ...  Registration done but no vaccination yet\n",
              "3    u1604004@student.cuet.ac.bd  ...         Couldn’t Register yet (or no NID)\n",
              "4    u1604006@student.cuet.ac.bd  ...       1st dose done + 2nd dose date given\n",
              "..                           ...  ...                                       ...\n",
              "112  u1604131@student.cuet.ac.bd  ...                             2nd dose done\n",
              "113  u1604071@student.cuet.ac.bd  ...                             2nd dose done\n",
              "114  shahriarmahmud292@gmail.com  ...  Registration done but no vaccination yet\n",
              "115  u1604121@student.cuet.ac.bd  ...  Registration done but no vaccination yet\n",
              "116           rukon219@gmail.com  ...                             2nd dose done\n",
              "\n",
              "[117 rows x 5 columns]"
            ]
          },
          "metadata": {},
          "execution_count": 63
        }
      ]
    },
    {
      "cell_type": "code",
      "metadata": {
        "colab": {
          "base_uri": "https://localhost:8080/"
        },
        "id": "fa_T9agLc0HH",
        "outputId": "ea0a71ab-b5a0-4040-8168-a75de2ae6603"
      },
      "source": [
        "vac_counts_CSE = df2.Vac_Status.value_counts()\n",
        "vac_counts_CSE"
      ],
      "execution_count": 64,
      "outputs": [
        {
          "output_type": "execute_result",
          "data": {
            "text/plain": [
              "2nd dose done                                  56\n",
              "Registration done but no vaccination yet       25\n",
              "1st dose done + 2nd dose date given            14\n",
              "1st dose done + 2nd dose date not given yet    12\n",
              "Couldn’t Register yet (or no NID)              10\n",
              "Name: Vac_Status, dtype: int64"
            ]
          },
          "metadata": {},
          "execution_count": 64
        }
      ]
    },
    {
      "cell_type": "code",
      "metadata": {
        "colab": {
          "base_uri": "https://localhost:8080/",
          "height": 520
        },
        "id": "qCLgmky-c6o6",
        "outputId": "7e6b7824-7c21-4f3f-9d57-b47c65571b53"
      },
      "source": [
        "plt.title('Vaccination status of students of CUET - 16 batch CSE dept.')\n",
        "plt.pie(vac_counts_CSE,  shadow=True, explode=(0.1, 0.1, 0.1, 0.1,0.1), autopct='%1.1f%%',  labels = vac_counts_CSE.index )"
      ],
      "execution_count": 65,
      "outputs": [
        {
          "output_type": "execute_result",
          "data": {
            "text/plain": [
              "([<matplotlib.patches.Wedge at 0x7f6470cca690>,\n",
              "  <matplotlib.patches.Wedge at 0x7f6470cc5290>,\n",
              "  <matplotlib.patches.Wedge at 0x7f6470cc5e10>,\n",
              "  <matplotlib.patches.Wedge at 0x7f6470cd3a90>,\n",
              "  <matplotlib.patches.Wedge at 0x7f6470ce3910>],\n",
              " [Text(0.08049316847864464, 1.1972973105408151, '2nd dose done'),\n",
              "  Text(-1.0310816939863754, -0.6138978256405431, 'Registration done but no vaccination yet'),\n",
              "  Text(0.016110274701384347, -1.1998918530638694, '1st dose done + 2nd dose date given'),\n",
              "  Text(0.7836168072525813, -0.9088149973406419, '1st dose done + 2nd dose date not given yet'),\n",
              "  Text(1.1570000219871128, -0.31835663825624955, 'Couldn’t Register yet (or no NID)')],\n",
              " [Text(0.04695434827920937, 0.6984234311488087, '47.9%'),\n",
              "  Text(-0.6014643214920523, -0.35810706495698347, '21.4%'),\n",
              "  Text(0.0093976602424742, -0.699936914287257, '12.0%'),\n",
              "  Text(0.45710980423067243, -0.530142081782041, '10.3%'),\n",
              "  Text(0.6749166794924824, -0.18570803898281224, '8.5%')])"
            ]
          },
          "metadata": {},
          "execution_count": 65
        },
        {
          "output_type": "display_data",
          "data": {
            "image/png": "[encoded data removed]",
            "text/plain": [
              "<Figure size 432x288 with 1 Axes>"
            ]
          },
          "metadata": {}
        }
      ]
    }
  ]
}